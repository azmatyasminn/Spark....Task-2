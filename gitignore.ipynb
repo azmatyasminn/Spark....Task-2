{
 "cells": [
  {
   "cell_type": "raw",
   "metadata": {},
   "source": [
    "#### Created by https://www.toptal.com/developers/gitignore/api/jupyternotebooks,visualstudiocode,git\n",
    "#Edit at https://www.toptal.com/developers/gitignore?templates=jupyternotebooks,visualstudiocode,git\n",
    "\n",
    "### Git ###\n",
    "#Created by git for backups. To disable backups in Git:\n",
    " $ git config --global mergetool.keepBackup false\n",
    "*.orig\n",
    "\n",
    "# Created by git when using merge tools for conflicts\n",
    "*.BACKUP.*\n",
    "*.BASE.*\n",
    "*.LOCAL.*\n",
    "*.REMOTE.*\n",
    "*_BACKUP_*.txt\n",
    "*_BASE_*.txt\n",
    "*_LOCAL_*.txt\n",
    "*_REMOTE_*.txt\n",
    "\n",
    "### JupyterNotebooks ###\n",
    "# gitignore template for Jupyter Notebooks\n",
    "# website: http://jupyter.org/\n",
    "\n",
    ".ipynb_checkpoints\n",
    "*/.ipynb_checkpoints/*\n",
    "\n",
    "# IPython\n",
    "profile_default/\n",
    "ipython_config.py\n",
    "\n",
    "# Remove previous ipynb_checkpoints\n",
    "#   git rm -r .ipynb_checkpoints/\n",
    "\n",
    "### VisualStudioCode ###\n",
    ".vscode/*\n",
    "!.vscode/settings.json\n",
    "!.vscode/tasks.json\n",
    "!.vscode/launch.json\n",
    "!.vscode/extensions.json\n",
    "*.code-workspace\n",
    "\n",
    "# Local History for Visual Studio Code\n",
    ".history/\n",
    "\n",
    "### VisualStudioCode Patch ###\n",
    "# Ignore all local history of files\n",
    ".history\n",
    ".ionide\n",
    "\n",
    "# End of https://www.toptal.com/developers/gitignore/api/jupyternotebooks,visualstudiocode,git"
   ]
  }
 ],
 "metadata": {
  "kernelspec": {
   "display_name": "Python 3",
   "language": "python",
   "name": "python3"
  },
  "language_info": {
   "codemirror_mode": {
    "name": "ipython",
    "version": 3
   },
   "file_extension": ".py",
   "mimetype": "text/x-python",
   "name": "python",
   "nbconvert_exporter": "python",
   "pygments_lexer": "ipython3",
   "version": "3.8.3"
  }
 },
 "nbformat": 4,
 "nbformat_minor": 4
}
